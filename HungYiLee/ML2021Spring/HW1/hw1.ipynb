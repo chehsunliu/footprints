{
 "cells": [
  {
   "cell_type": "code",
   "execution_count": 1,
   "id": "0859c285-483e-43e0-9790-34bfa05b2581",
   "metadata": {},
   "outputs": [],
   "source": [
    "import logging\n",
    "import random\n",
    "from typing import List, NamedTuple, Callable, Dict, Any, Tuple, Union\n",
    "\n",
    "import torch\n",
    "import numpy\n",
    "import pandas\n",
    "import matplotlib.pyplot as plt\n",
    "from matplotlib.pyplot import figure\n",
    "from torch import nn\n",
    "from torch.utils.data import DataLoader, Dataset"
   ]
  },
  {
   "cell_type": "code",
   "execution_count": 2,
   "id": "976321c9-cec1-4cb4-88cc-8dbfe388c8f2",
   "metadata": {},
   "outputs": [],
   "source": [
    "logging.basicConfig(format=\"[%(asctime)s] %(levelname)s %(message)s\", level=logging.INFO)\n",
    "logger = logging.getLogger(__name__)"
   ]
  },
  {
   "cell_type": "code",
   "execution_count": 3,
   "id": "d50a9b9a-0594-4bba-ab90-56bde77b19bc",
   "metadata": {},
   "outputs": [],
   "source": [
    "seed = 1234\n",
    "\n",
    "random.seed(seed)\n",
    "numpy.random.seed(seed)\n",
    "torch.manual_seed(seed)\n",
    "torch.backends.cudnn.deterministic = True\n",
    "torch.backends.cudnn.benchmark = False\n",
    "\n",
    "if torch.cuda.is_available():\n",
    "    torch.cuda.manual_seed_all(seed)"
   ]
  },
  {
   "cell_type": "markdown",
   "id": "41c8836d-e9ad-4be1-9440-dd036dc1de10",
   "metadata": {},
   "source": [
    "# Config Template"
   ]
  },
  {
   "cell_type": "code",
   "execution_count": 4,
   "id": "73d90d20-f521-40dc-aaa7-dca41fbba93c",
   "metadata": {},
   "outputs": [],
   "source": [
    "class HW1Config(NamedTuple):\n",
    "    batch_size: int\n",
    "    device: str\n",
    "    epochs: int\n",
    "    model_saving_path: str\n",
    "    optimizer: Callable\n",
    "    optimizer_params: Dict[str, Any]"
   ]
  },
  {
   "cell_type": "markdown",
   "id": "b0fbc4cf-bbd7-4c5e-9f0c-6630d950d232",
   "metadata": {},
   "source": [
    "# Dataset"
   ]
  },
  {
   "cell_type": "code",
   "execution_count": 5,
   "id": "58ecdc46-1fc0-4667-8349-9291f8658c93",
   "metadata": {},
   "outputs": [],
   "source": [
    "available_features = [\n",
    "    \"id\",\n",
    "\n",
    "    \"AL\", \"AK\", \"AZ\", \"AR\", \"CA\", \"CO\", \"CT\", \"FL\", \"GA\", \"ID\",\n",
    "    \"IL\", \"IN\", \"IA\", \"KS\", \"KY\", \"LA\", \"MD\", \"MA\", \"MI\", \"MN\",\n",
    "    \"MS\", \"MO\", \"NE\", \"NV\", \"NJ\", \"NM\", \"NY\", \"NC\", \"OH\", \"OK\",\n",
    "    \"OR\", \"PA\", \"RI\", \"SC\", \"TX\", \"UT\", \"VA\", \"WA\", \"WV\", \"WI\",\n",
    "\n",
    "    \"cli\",   \"ili\",   \"hh_cmnty_cli\",   \"nohh_cmnty_cli\",   \"wearing_mask\",   \"travel_outside_state\",   \"work_outside_home\",   \"shop\",   \"restaurant\",   \"spent_time\",\n",
    "    \"large_event\",   \"public_transit\",   \"anxious\",   \"depressed\",   \"felt_isolated\",   \"worried_become_ill\",   \"worried_finances\",   \"tested_positive\",\n",
    "\n",
    "    \"cli.1\", \"ili.1\", \"hh_cmnty_cli.1\", \"nohh_cmnty_cli.1\", \"wearing_mask.1\", \"travel_outside_state.1\", \"work_outside_home.1\", \"shop.1\", \"restaurant.1\", \"spent_time.1\",\n",
    "    \"large_event.1\", \"public_transit.1\", \"anxious.1\", \"depressed.1\", \"felt_isolated.1\", \"worried_become_ill.1\", \"worried_finances.1\", \"tested_positive.1\",\n",
    "    \n",
    "    \"cli.2\", \"ili.2\", \"hh_cmnty_cli.2\", \"nohh_cmnty_cli.2\", \"wearing_mask.2\", \"travel_outside_state.2\", \"work_outside_home.2\", \"shop.2\", \"restaurant.2\", \"spent_time.2\",\n",
    "    \"large_event.2\", \"public_transit.2\", \"anxious.2\", \"depressed.2\", \"felt_isolated.2\", \"worried_become_ill.2\", \"worried_finances.2\",\n",
    "    \n",
    "    \"tested_positive.2\"  # label, only available in training data\n",
    "]\n",
    "\n",
    "features = [\n",
    "    \"AL\", \"AK\", \"AZ\", \"AR\", \"CA\", \"CO\", \"CT\", \"FL\", \"GA\", \"ID\",\n",
    "    \"IL\", \"IN\", \"IA\", \"KS\", \"KY\", \"LA\", \"MD\", \"MA\", \"MI\", \"MN\",\n",
    "    \"MS\", \"MO\", \"NE\", \"NV\", \"NJ\", \"NM\", \"NY\", \"NC\", \"OH\", \"OK\",\n",
    "    \"OR\", \"PA\", \"RI\", \"SC\", \"TX\", \"UT\", \"VA\", \"WA\", \"WV\", \"WI\",\n",
    "\n",
    "#     \"cli\",   \n",
    "#     \"ili\",   \n",
    "#     \"hh_cmnty_cli\",   \n",
    "#     \"nohh_cmnty_cli\",   \n",
    "#     \"wearing_mask\",   \n",
    "#     \"travel_outside_state\",   \n",
    "#     \"work_outside_home\",   \n",
    "#     \"shop\",   \n",
    "#     \"restaurant\",   \n",
    "#     \"spent_time\",\n",
    "#     \"large_event\",   \n",
    "#     \"public_transit\",  \n",
    "#     \"anxious\",  \n",
    "#     \"depressed\",  \n",
    "#     \"felt_isolated\",\n",
    "#     \"worried_become_ill\",\n",
    "#     \"worried_finances\",\n",
    "    \"tested_positive\",\n",
    "\n",
    "#     \"cli.1\",\n",
    "#     \"ili.1\",\n",
    "#     \"hh_cmnty_cli.1\", \n",
    "#     \"nohh_cmnty_cli.1\",\n",
    "#     \"wearing_mask.1\",\n",
    "#     \"travel_outside_state.1\",\n",
    "#     \"work_outside_home.1\",\n",
    "#     \"shop.1\",\n",
    "#     \"restaurant.1\", \n",
    "#     \"spent_time.1\",\n",
    "#     \"large_event.1\", \n",
    "#     \"public_transit.1\", \n",
    "#     \"anxious.1\", \n",
    "#     \"depressed.1\", \n",
    "#     \"felt_isolated.1\",\n",
    "#     \"worried_become_ill.1\", \n",
    "#     \"worried_finances.1\",\n",
    "    \"tested_positive.1\",\n",
    "    \n",
    "#     \"cli.2\",\n",
    "#     \"ili.2\", \n",
    "#     \"hh_cmnty_cli.2\",\n",
    "#     \"nohh_cmnty_cli.2\", \n",
    "#     \"wearing_mask.2\",\n",
    "#     \"travel_outside_state.2\",\n",
    "#     \"work_outside_home.2\", \n",
    "#     \"shop.2\",\n",
    "#     \"restaurant.2\", \n",
    "#     \"spent_time.2\",\n",
    "#     \"large_event.2\",\n",
    "#     \"public_transit.2\",\n",
    "#     \"anxious.2\",\n",
    "#     \"depressed.2\",\n",
    "#     \"felt_isolated.2\",\n",
    "#     \"worried_become_ill.2\",\n",
    "#     \"worried_finances.2\",\n",
    "]\n",
    "\n",
    "\n",
    "class Covid19Dataset(Dataset):\n",
    "    def __init__(self, data, labels=None):\n",
    "        self.data = data\n",
    "        self.labels = labels\n",
    "        \n",
    "        logger.info(\"data: %s\", self.data.shape)\n",
    "        if self.labels is not None:\n",
    "            logger.info(\"data: %s\", self.labels.shape)\n",
    "    \n",
    "    def __len__(self) -> int:\n",
    "        return len(self.data)\n",
    "    \n",
    "    def __getitem__(self, idx) -> Union[torch.Tensor, Tuple[torch.Tensor, torch.Tensor]]:\n",
    "        if self.labels is not None:\n",
    "            return self.data[idx], self.labels[idx]\n",
    "        return self.data[idx]\n",
    "    \n",
    "    @property\n",
    "    def dimension(self) -> int:\n",
    "        return self.data.shape[1]\n",
    "    \n",
    "    \n",
    "    @classmethod\n",
    "    def create_dataset(cls, filepath: str, is_training: bool) -> 'Union[Covid19Dataset, Tuple[Covid19Dataset, Covid19Dataset]]':\n",
    "        logger.info(\"Reading data from %s\", filepath)\n",
    "        original_data = pandas.read_csv(filepath)\n",
    "\n",
    "        data = torch.FloatTensor(original_data[features].values)\n",
    "        data[:, 40:] = (data[:, 40:] - data[:, 40:].mean(dim=0, keepdim=True)) / data[:, 40:].std(dim=0, keepdim=True)\n",
    "        \n",
    "        if not is_training:\n",
    "            return cls(data=data)\n",
    "\n",
    "        labels = torch.FloatTensor(original_data[\"tested_positive.2\"].values)\n",
    "        \n",
    "        total_rows = len(data)\n",
    "#         indexes1 = random.sample(range(total_rows), total_rows // 10)\n",
    "#         indexes0 = [index for index in range(total_rows) if index not in indexes1]\n",
    "        indexes1 = [i for i in range(total_rows) if i % 10 == 0]\n",
    "        indexes0 = [i for i in range(total_rows) if i % 10 != 0]\n",
    "        \n",
    "        return cls(data=data[indexes0], labels=labels[indexes0]), cls(data=data[indexes1], labels=labels[indexes1])\n",
    "        \n",
    "\n",
    "    @classmethod\n",
    "    def create_training_dataset(cls, filepath: str) -> 'Tuple[Covid19Dataset, Covid19Dataset]':\n",
    "        return cls.create_dataset(filepath, is_training=True)\n",
    "    \n",
    "    @classmethod\n",
    "    def create_testing_dataset(cls, filepath: str) -> 'Covid19Dataset':\n",
    "        return cls.create_dataset(filepath, is_training=False)\n",
    "    "
   ]
  },
  {
   "cell_type": "markdown",
   "id": "1b0dd754-91fb-417b-b8fe-8cbf4738c301",
   "metadata": {},
   "source": [
    "# Model"
   ]
  },
  {
   "cell_type": "code",
   "execution_count": 6,
   "id": "931d8484-bf05-46ed-b7a9-8744e86fcdab",
   "metadata": {},
   "outputs": [],
   "source": [
    "class NeuralNetwork(nn.Module):\n",
    "    def __init__(self, input_dimension):\n",
    "        super().__init__()\n",
    "        \n",
    "        self.model = nn.Sequential(\n",
    "            nn.Linear(input_dimension, 64),\n",
    "            nn.ReLU(),\n",
    "            nn.Linear(64, 1),\n",
    "        )\n",
    "        \n",
    "        self.loss_function = nn.MSELoss(reduction=\"mean\")\n",
    "        \n",
    "    def forward(self, X: torch.Tensor) -> torch.Tensor:\n",
    "        return self.model(X).squeeze(1)\n",
    "    \n",
    "    def calculate_loss(self, y1: torch.Tensor, y2: torch.Tensor) -> torch.Tensor:\n",
    "        return self.loss_function(y1, y2)"
   ]
  },
  {
   "cell_type": "markdown",
   "id": "a96be36b-bc61-4807-84ce-dd7f70b0a5e9",
   "metadata": {},
   "source": [
    "# Steps"
   ]
  },
  {
   "cell_type": "code",
   "execution_count": 7,
   "id": "489ba6fe-b150-4cb5-add1-2feead50badb",
   "metadata": {},
   "outputs": [],
   "source": [
    "class LossRecords(NamedTuple):\n",
    "    training_loss: List[float] = []\n",
    "    validation_loss: List[float] = []\n",
    "\n",
    "\n",
    "def train_model(training_dataloader: DataLoader, validation_dataloader: DataLoader, model: NeuralNetwork, config: HW1Config) -> LossRecords:\n",
    "    optimizer = config.optimizer(model.parameters(), **config.optimizer_params)\n",
    "    minimal_validation_loss = 1e10\n",
    "    loss_records = LossRecords()\n",
    "    \n",
    "    for epoch in range(config.epochs):\n",
    "        model.train()\n",
    "        \n",
    "        for X, y in training_dataloader:\n",
    "            X, y = X.to(config.device), y.to(config.device)\n",
    "            \n",
    "            optimizer.zero_grad()\n",
    "            prediction = model(X)\n",
    "            loss = model.calculate_loss(prediction, y)\n",
    "            loss.backward()\n",
    "            optimizer.step()\n",
    "            \n",
    "            loss_records.training_loss.append(loss.detach().cpu().item())\n",
    "            \n",
    "        model.eval()\n",
    "        validation_loss = validate_model(validation_dataloader, model, config=config)\n",
    "        loss_records.validation_loss.append(validation_loss)\n",
    "        \n",
    "        if validation_loss < minimal_validation_loss:\n",
    "            minimal_validation_loss = validation_loss\n",
    "            torch.save(model.state_dict(), config.model_saving_path)\n",
    "            \n",
    "        if epoch % (config.epochs // 10) == 0 or epoch == config.epochs - 1:\n",
    "            logger.info(f\">> Finish (epoch: {epoch + 1:4d}, min_loss: {minimal_validation_loss:.4f})\")\n",
    "            \n",
    "    return loss_records\n",
    "            \n",
    "            \n",
    "def validate_model(dataloader: DataLoader, model: NeuralNetwork, config: HW1Config):\n",
    "    total_loss = 0\n",
    "    \n",
    "    for X, y in dataloader:\n",
    "        X, y = X.to(config.device), y.to(config.device)\n",
    "        with torch.no_grad():\n",
    "            prediction = model(X)\n",
    "            loss = model.calculate_loss(prediction, y)\n",
    "            total_loss += loss.detach().cpu().item() * len(X)\n",
    "            \n",
    "    return total_loss / len(dataloader.dataset)\n",
    "\n",
    "\n",
    "def test_model(dataloader: DataLoader, model: NeuralNetwork, config: HW1Config) -> torch.Tensor:\n",
    "    predictions = []\n",
    "    \n",
    "    for X in dataloader:\n",
    "        X = X.to(config.device)\n",
    "        with torch.no_grad():\n",
    "            predictions.append(model(X).detach().cpu())\n",
    "    \n",
    "    return torch.cat(predictions, dim=0)\n",
    "\n",
    "\n",
    "def plot_learning_curve(loss_records: LossRecords) -> None:\n",
    "    total_steps = len(loss_records.training_loss)\n",
    "    x1 = range(total_steps)\n",
    "    x2 = x1[::len(loss_records.training_loss) // len(loss_records.validation_loss)]\n",
    "    \n",
    "    figure(figsize=(6, 4))\n",
    "    plt.plot(x1, loss_records.training_loss, c=\"tab:red\", label=\"training\")\n",
    "    plt.plot(x2, loss_records.validation_loss, c=\"tab:cyan\", label=\"validation\")\n",
    "    \n",
    "    plt.ylim(0.0, 5.0)\n",
    "    plt.xlabel(\"Training steps\")\n",
    "    plt.ylabel(\"Loss\")\n",
    "    plt.title(\"Learning curve\")\n",
    "    plt.legend()\n",
    "    plt.show()"
   ]
  },
  {
   "cell_type": "markdown",
   "id": "498691fa-e2f2-43af-a2b3-5342129e70ed",
   "metadata": {},
   "source": [
    "# Start!"
   ]
  },
  {
   "cell_type": "code",
   "execution_count": 8,
   "id": "515316dd-9182-42c8-9d18-315c844b829e",
   "metadata": {},
   "outputs": [],
   "source": [
    "config = HW1Config(\n",
    "    batch_size=270,\n",
    "    device=\"cuda\" if torch.cuda.is_available() else \"cpu\",\n",
    "    epochs=2000,\n",
    "    model_saving_path=\"./data/model.zip\",\n",
    "    optimizer=torch.optim.SGD,\n",
    "    optimizer_params={\"lr\": 0.001, \"momentum\": 0.9}\n",
    ")"
   ]
  },
  {
   "cell_type": "code",
   "execution_count": 9,
   "id": "02aa1f9f-b20a-4046-ae98-86ca772135ba",
   "metadata": {},
   "outputs": [
    {
     "name": "stderr",
     "output_type": "stream",
     "text": [
      "[2021-07-11 00:10:02,983] INFO Reading data from ./data/covid.train.csv\n",
      "[2021-07-11 00:10:03,014] INFO data: torch.Size([2646, 42])\n",
      "[2021-07-11 00:10:03,015] INFO data: torch.Size([2646])\n",
      "[2021-07-11 00:10:03,015] INFO data: torch.Size([54, 42])\n",
      "[2021-07-11 00:10:03,016] INFO data: torch.Size([54])\n",
      "[2021-07-11 00:10:03,016] INFO Reading data from ./data/covid.test.csv\n",
      "[2021-07-11 00:10:03,027] INFO data: torch.Size([893, 42])\n"
     ]
    }
   ],
   "source": [
    "training_dataset, validation_dataset = Covid19Dataset.create_training_dataset(\"./data/covid.train.csv\")\n",
    "testing_dataset = Covid19Dataset.create_testing_dataset(\"./data/covid.test.csv\")\n",
    "\n",
    "training_dataloader = DataLoader(training_dataset, batch_size=config.batch_size, shuffle=True, num_workers=0, pin_memory=True, drop_last=False)\n",
    "validation_dataloader = DataLoader(validation_dataset, batch_size=config.batch_size, shuffle=False, num_workers=0, pin_memory=True, drop_last=False)\n",
    "testing_dataloader = DataLoader(testing_dataset, batch_size=config.batch_size, shuffle=False, num_workers=0, pin_memory=True, drop_last=False)"
   ]
  },
  {
   "cell_type": "code",
   "execution_count": 10,
   "id": "e8555bb8-2479-4a4a-80ef-a7b65a61063a",
   "metadata": {},
   "outputs": [
    {
     "data": {
      "text/plain": [
       "NeuralNetwork(\n",
       "  (model): Sequential(\n",
       "    (0): Linear(in_features=42, out_features=64, bias=True)\n",
       "    (1): ReLU()\n",
       "    (2): Linear(in_features=64, out_features=1, bias=True)\n",
       "  )\n",
       "  (loss_function): MSELoss()\n",
       ")"
      ]
     },
     "execution_count": 10,
     "metadata": {},
     "output_type": "execute_result"
    }
   ],
   "source": [
    "model = NeuralNetwork(training_dataloader.dataset.dimension).to(config.device)\n",
    "model"
   ]
  },
  {
   "cell_type": "code",
   "execution_count": 11,
   "id": "5f91fdc4-d7bf-48c4-8e4b-41d32667b601",
   "metadata": {
    "tags": []
   },
   "outputs": [
    {
     "name": "stderr",
     "output_type": "stream",
     "text": [
      "[2021-07-11 00:10:04,913] INFO >> Finish (epoch:    1, min_loss: 257.3293)\n",
      "[2021-07-11 00:10:08,654] INFO >> Finish (epoch:  201, min_loss: 0.8636)\n",
      "[2021-07-11 00:10:12,291] INFO >> Finish (epoch:  401, min_loss: 0.8636)\n",
      "[2021-07-11 00:10:15,942] INFO >> Finish (epoch:  601, min_loss: 0.8636)\n",
      "[2021-07-11 00:10:19,589] INFO >> Finish (epoch:  801, min_loss: 0.8636)\n",
      "[2021-07-11 00:10:23,246] INFO >> Finish (epoch: 1001, min_loss: 0.8636)\n",
      "[2021-07-11 00:10:26,943] INFO >> Finish (epoch: 1201, min_loss: 0.8636)\n",
      "[2021-07-11 00:10:30,608] INFO >> Finish (epoch: 1401, min_loss: 0.8636)\n",
      "[2021-07-11 00:10:34,275] INFO >> Finish (epoch: 1601, min_loss: 0.8636)\n",
      "[2021-07-11 00:10:38,015] INFO >> Finish (epoch: 1801, min_loss: 0.8636)\n",
      "[2021-07-11 00:10:41,683] INFO >> Finish (epoch: 2000, min_loss: 0.8636)\n"
     ]
    }
   ],
   "source": [
    "loss_records = train_model(training_dataloader, validation_dataloader, model, config=config)"
   ]
  },
  {
   "cell_type": "code",
   "execution_count": 12,
   "id": "89c73d67-6d61-4cc1-bd00-47c76e08b321",
   "metadata": {},
   "outputs": [
    {
     "data": {
      "image/png": "[encoded data removed]",
      "text/plain": [
       "<Figure size 432x288 with 1 Axes>"
      ]
     },
     "metadata": {
      "needs_background": "light"
     },
     "output_type": "display_data"
    }
   ],
   "source": [
    "plot_learning_curve(loss_records)"
   ]
  },
  {
   "cell_type": "code",
   "execution_count": 13,
   "id": "ab14afaf-bc30-4504-b341-c788706bf149",
   "metadata": {},
   "outputs": [],
   "source": [
    "del model\n",
    "\n",
    "model_state = torch.load(config.model_saving_path, map_location=\"cpu\")\n",
    "model = NeuralNetwork(training_dataloader.dataset.dimension).to(config.device)\n",
    "model.load_state_dict(model_state)\n",
    "\n",
    "model.eval()\n",
    "predictions = test_model(testing_dataloader, model, config=config)"
   ]
  },
  {
   "cell_type": "code",
   "execution_count": 14,
   "id": "75ccb341-df8b-4905-b7ed-6d7744801fb0",
   "metadata": {},
   "outputs": [],
   "source": [
    "pandas.DataFrame(predictions.numpy()).to_csv(\"./data/answer.csv\", index_label=\"id\", header=[\"tested_positive\"])"
   ]
  },
  {
   "cell_type": "code",
   "execution_count": null,
   "id": "43388dc4-bc32-49f5-a4a9-a0f7ec9d69d1",
   "metadata": {},
   "outputs": [],
   "source": []
  }
 ],
 "metadata": {
  "kernelspec": {
   "display_name": "Python 3",
   "language": "python",
   "name": "python3"
  },
  "language_info": {
   "codemirror_mode": {
    "name": "ipython",
    "version": 3
   },
   "file_extension": ".py",
   "mimetype": "text/x-python",
   "name": "python",
   "nbconvert_exporter": "python",
   "pygments_lexer": "ipython3",
   "version": "3.8.10"
  }
 },
 "nbformat": 4,
 "nbformat_minor": 5
}
