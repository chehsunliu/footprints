{
 "cells": [
  {
   "cell_type": "code",
   "execution_count": 1,
   "id": "0859c285-483e-43e0-9790-34bfa05b2581",
   "metadata": {},
   "outputs": [],
   "source": [
    "import random\n",
    "\n",
    "import torch\n",
    "import numpy\n",
    "import pandas\n",
    "from torch.utils.data import DataLoader\n",
    "\n",
    "import hw1"
   ]
  },
  {
   "cell_type": "code",
   "execution_count": 2,
   "id": "d50a9b9a-0594-4bba-ab90-56bde77b19bc",
   "metadata": {},
   "outputs": [],
   "source": [
    "seed = 1234\n",
    "\n",
    "random.seed(seed)\n",
    "numpy.random.seed(seed)\n",
    "torch.manual_seed(seed)\n",
    "torch.backends.cudnn.deterministic = True\n",
    "torch.backends.cudnn.benchmark = False\n",
    "\n",
    "if torch.cuda.is_available():\n",
    "    torch.cuda.manual_seed_all(seed)"
   ]
  },
  {
   "cell_type": "markdown",
   "id": "498691fa-e2f2-43af-a2b3-5342129e70ed",
   "metadata": {},
   "source": [
    "# Start!"
   ]
  },
  {
   "cell_type": "code",
   "execution_count": 3,
   "id": "515316dd-9182-42c8-9d18-315c844b829e",
   "metadata": {},
   "outputs": [],
   "source": [
    "config = hw1.HW1Config(\n",
    "    batch_size=270,\n",
    "    device=\"cuda\" if torch.cuda.is_available() else \"cpu\",\n",
    "    epochs=3000,\n",
    "    model_saving_path=\"./data/model.zip\",\n",
    "    optimizer=torch.optim.SGD,\n",
    "    optimizer_params={\"lr\": 0.001, \"momentum\": 0.9}\n",
    ")"
   ]
  },
  {
   "cell_type": "code",
   "execution_count": 4,
   "id": "02aa1f9f-b20a-4046-ae98-86ca772135ba",
   "metadata": {
    "tags": []
   },
   "outputs": [
    {
     "name": "stderr",
     "output_type": "stream",
     "text": [
      "[2021-07-12 04:00:24,791] INFO Reading data from ./data/covid.train.csv\n",
      "[2021-07-12 04:00:24,822] INFO data: torch.Size([2430, 42])\n",
      "[2021-07-12 04:00:24,823] INFO data: torch.Size([2430])\n",
      "[2021-07-12 04:00:24,823] INFO data: torch.Size([270, 42])\n",
      "[2021-07-12 04:00:24,824] INFO data: torch.Size([270])\n",
      "[2021-07-12 04:00:24,825] INFO Reading data from ./data/covid.test.csv\n",
      "[2021-07-12 04:00:24,838] INFO data: torch.Size([893, 42])\n"
     ]
    }
   ],
   "source": [
    "training_dataset, validation_dataset = hw1.Covid19Dataset.create_training_dataset(\"./data/covid.train.csv\")\n",
    "testing_dataset = hw1.Covid19Dataset.create_testing_dataset(\"./data/covid.test.csv\")\n",
    "\n",
    "training_dataset.normalize()\n",
    "validation_dataset.normalize_by(training_dataset)\n",
    "testing_dataset.normalize_by(training_dataset)\n",
    "\n",
    "training_dataloader = DataLoader(training_dataset, batch_size=config.batch_size, shuffle=True, num_workers=0, pin_memory=True, drop_last=False)\n",
    "validation_dataloader = DataLoader(validation_dataset, batch_size=config.batch_size, shuffle=False, num_workers=0, pin_memory=True, drop_last=False)\n",
    "testing_dataloader = DataLoader(testing_dataset, batch_size=config.batch_size, shuffle=False, num_workers=0, pin_memory=True, drop_last=False)"
   ]
  },
  {
   "cell_type": "code",
   "execution_count": 5,
   "id": "e8555bb8-2479-4a4a-80ef-a7b65a61063a",
   "metadata": {},
   "outputs": [
    {
     "data": {
      "text/plain": [
       "NeuralNetwork(\n",
       "  (model): Sequential(\n",
       "    (0): Linear(in_features=42, out_features=42, bias=True)\n",
       "    (1): ReLU()\n",
       "    (2): Linear(in_features=42, out_features=1, bias=True)\n",
       "  )\n",
       "  (loss_function): MSELoss()\n",
       ")"
      ]
     },
     "execution_count": 5,
     "metadata": {},
     "output_type": "execute_result"
    }
   ],
   "source": [
    "model = hw1.NeuralNetwork(training_dataloader.dataset.dimension).to(config.device)\n",
    "model"
   ]
  },
  {
   "cell_type": "code",
   "execution_count": 6,
   "id": "5f91fdc4-d7bf-48c4-8e4b-41d32667b601",
   "metadata": {
    "tags": []
   },
   "outputs": [
    {
     "name": "stderr",
     "output_type": "stream",
     "text": [
      "[2021-07-12 04:00:26,753] INFO >> Finish (epoch:    1, min_loss: 259.9785)\n",
      "[2021-07-12 04:00:32,219] INFO >> Finish (epoch:  301, min_loss: 0.9565)\n",
      "[2021-07-12 04:00:37,655] INFO >> Finish (epoch:  601, min_loss: 0.9551)\n",
      "[2021-07-12 04:00:43,025] INFO >> Finish (epoch:  901, min_loss: 0.9550)\n",
      "[2021-07-12 04:00:48,340] INFO >> Finish (epoch: 1201, min_loss: 0.9550)\n",
      "[2021-07-12 04:00:53,656] INFO >> Finish (epoch: 1501, min_loss: 0.9550)\n",
      "[2021-07-12 04:00:58,972] INFO >> Finish (epoch: 1801, min_loss: 0.9550)\n",
      "[2021-07-12 04:01:04,296] INFO >> Finish (epoch: 2101, min_loss: 0.9550)\n",
      "[2021-07-12 04:01:09,604] INFO >> Finish (epoch: 2401, min_loss: 0.9550)\n",
      "[2021-07-12 04:01:14,908] INFO >> Finish (epoch: 2701, min_loss: 0.9550)\n",
      "[2021-07-12 04:01:20,197] INFO >> Finish (epoch: 3000, min_loss: 0.9550)\n"
     ]
    }
   ],
   "source": [
    "loss_records = hw1.train_model(training_dataloader, validation_dataloader, model, config=config)"
   ]
  },
  {
   "cell_type": "code",
   "execution_count": 7,
   "id": "89c73d67-6d61-4cc1-bd00-47c76e08b321",
   "metadata": {},
   "outputs": [
    {
     "data": {
      "image/png": "[encoded data removed]",
      "text/plain": [
       "<Figure size 432x288 with 1 Axes>"
      ]
     },
     "metadata": {
      "needs_background": "light"
     },
     "output_type": "display_data"
    }
   ],
   "source": [
    "hw1.plot_learning_curve(loss_records)"
   ]
  },
  {
   "cell_type": "code",
   "execution_count": 8,
   "id": "ab14afaf-bc30-4504-b341-c788706bf149",
   "metadata": {},
   "outputs": [],
   "source": [
    "del model\n",
    "\n",
    "model_state = torch.load(config.model_saving_path, map_location=\"cpu\")\n",
    "model = hw1.NeuralNetwork(training_dataloader.dataset.dimension).to(config.device)\n",
    "model.load_state_dict(model_state)\n",
    "\n",
    "model.eval()\n",
    "predictions = hw1.test_model(testing_dataloader, model, config=config)"
   ]
  },
  {
   "cell_type": "code",
   "execution_count": 9,
   "id": "75ccb341-df8b-4905-b7ed-6d7744801fb0",
   "metadata": {},
   "outputs": [],
   "source": [
    "pandas.DataFrame(predictions.numpy()).to_csv(\"./data/answer.csv\", index_label=\"id\", header=[\"tested_positive\"])"
   ]
  },
  {
   "cell_type": "code",
   "execution_count": null,
   "id": "30e64158-6881-48c9-9f25-aa29127da2e4",
   "metadata": {},
   "outputs": [],
   "source": []
  }
 ],
 "metadata": {
  "kernelspec": {
   "display_name": "Python 3",
   "language": "python",
   "name": "python3"
  },
  "language_info": {
   "codemirror_mode": {
    "name": "ipython",
    "version": 3
   },
   "file_extension": ".py",
   "mimetype": "text/x-python",
   "name": "python",
   "nbconvert_exporter": "python",
   "pygments_lexer": "ipython3",
   "version": "3.8.10"
  }
 },
 "nbformat": 4,
 "nbformat_minor": 5
}
