{
 "cells": [
  {
   "cell_type": "code",
   "execution_count": 1,
   "id": "0859c285-483e-43e0-9790-34bfa05b2581",
   "metadata": {},
   "outputs": [],
   "source": [
    "import logging\n",
    "import random\n",
    "from typing import List, NamedTuple, Callable, Dict, Any, Tuple, Union\n",
    "\n",
    "import torch\n",
    "import numpy\n",
    "import pandas\n",
    "import matplotlib.pyplot as plt\n",
    "from matplotlib.pyplot import figure\n",
    "from torch import nn\n",
    "from torch.utils.data import DataLoader, Dataset"
   ]
  },
  {
   "cell_type": "code",
   "execution_count": 2,
   "id": "976321c9-cec1-4cb4-88cc-8dbfe388c8f2",
   "metadata": {},
   "outputs": [],
   "source": [
    "logging.basicConfig(format=\"[%(asctime)s] %(levelname)s %(message)s\", level=logging.INFO)\n",
    "logger = logging.getLogger(__name__)"
   ]
  },
  {
   "cell_type": "code",
   "execution_count": 3,
   "id": "d50a9b9a-0594-4bba-ab90-56bde77b19bc",
   "metadata": {},
   "outputs": [],
   "source": [
    "seed = 1234\n",
    "\n",
    "random.seed(seed)\n",
    "numpy.random.seed(seed)\n",
    "torch.manual_seed(seed)\n",
    "torch.backends.cudnn.deterministic = True\n",
    "torch.backends.cudnn.benchmark = False\n",
    "\n",
    "if torch.cuda.is_available():\n",
    "    torch.cuda.manual_seed_all(seed)"
   ]
  },
  {
   "cell_type": "markdown",
   "id": "41c8836d-e9ad-4be1-9440-dd036dc1de10",
   "metadata": {},
   "source": [
    "# Config Template"
   ]
  },
  {
   "cell_type": "code",
   "execution_count": 4,
   "id": "73d90d20-f521-40dc-aaa7-dca41fbba93c",
   "metadata": {},
   "outputs": [],
   "source": [
    "class HW1Config(NamedTuple):\n",
    "    batch_size: int\n",
    "    device: str\n",
    "    epochs: int\n",
    "    model_saving_path: str\n",
    "    optimizer: Callable\n",
    "    optimizer_params: Dict[str, Any]"
   ]
  },
  {
   "cell_type": "markdown",
   "id": "b0fbc4cf-bbd7-4c5e-9f0c-6630d950d232",
   "metadata": {},
   "source": [
    "# Dataset"
   ]
  },
  {
   "cell_type": "code",
   "execution_count": 5,
   "id": "58ecdc46-1fc0-4667-8349-9291f8658c93",
   "metadata": {},
   "outputs": [],
   "source": [
    "available_features = [\n",
    "    \"id\",\n",
    "\n",
    "    \"AL\", \"AK\", \"AZ\", \"AR\", \"CA\", \"CO\", \"CT\", \"FL\", \"GA\", \"ID\",\n",
    "    \"IL\", \"IN\", \"IA\", \"KS\", \"KY\", \"LA\", \"MD\", \"MA\", \"MI\", \"MN\",\n",
    "    \"MS\", \"MO\", \"NE\", \"NV\", \"NJ\", \"NM\", \"NY\", \"NC\", \"OH\", \"OK\",\n",
    "    \"OR\", \"PA\", \"RI\", \"SC\", \"TX\", \"UT\", \"VA\", \"WA\", \"WV\", \"WI\",\n",
    "\n",
    "    \"cli\",   \"ili\",   \"hh_cmnty_cli\",   \"nohh_cmnty_cli\",   \"wearing_mask\",   \"travel_outside_state\",   \"work_outside_home\",   \"shop\",   \"restaurant\",   \"spent_time\",\n",
    "    \"large_event\",   \"public_transit\",   \"anxious\",   \"depressed\",   \"felt_isolated\",   \"worried_become_ill\",   \"worried_finances\",   \"tested_positive\",\n",
    "\n",
    "    \"cli.1\", \"ili.1\", \"hh_cmnty_cli.1\", \"nohh_cmnty_cli.1\", \"wearing_mask.1\", \"travel_outside_state.1\", \"work_outside_home.1\", \"shop.1\", \"restaurant.1\", \"spent_time.1\",\n",
    "    \"large_event.1\", \"public_transit.1\", \"anxious.1\", \"depressed.1\", \"felt_isolated.1\", \"worried_become_ill.1\", \"worried_finances.1\", \"tested_positive.1\",\n",
    "    \n",
    "    \"cli.2\", \"ili.2\", \"hh_cmnty_cli.2\", \"nohh_cmnty_cli.2\", \"wearing_mask.2\", \"travel_outside_state.2\", \"work_outside_home.2\", \"shop.2\", \"restaurant.2\", \"spent_time.2\",\n",
    "    \"large_event.2\", \"public_transit.2\", \"anxious.2\", \"depressed.2\", \"felt_isolated.2\", \"worried_become_ill.2\", \"worried_finances.2\",\n",
    "    \n",
    "    \"tested_positive.2\"  # label, only available in training data\n",
    "]\n",
    "\n",
    "features = [\n",
    "    \"AL\", \"AK\", \"AZ\", \"AR\", \"CA\", \"CO\", \"CT\", \"FL\", \"GA\", \"ID\",\n",
    "    \"IL\", \"IN\", \"IA\", \"KS\", \"KY\", \"LA\", \"MD\", \"MA\", \"MI\", \"MN\",\n",
    "    \"MS\", \"MO\", \"NE\", \"NV\", \"NJ\", \"NM\", \"NY\", \"NC\", \"OH\", \"OK\",\n",
    "    \"OR\", \"PA\", \"RI\", \"SC\", \"TX\", \"UT\", \"VA\", \"WA\", \"WV\", \"WI\",\n",
    "\n",
    "    \"cli\",   \"ili\",   \"hh_cmnty_cli\",   \"nohh_cmnty_cli\",   \"wearing_mask\",   \"travel_outside_state\",   \"work_outside_home\",   \"shop\",   \"restaurant\",   \"spent_time\",\n",
    "    \"large_event\",   \"public_transit\",   \"anxious\",   \"depressed\",   \"felt_isolated\",   \"worried_become_ill\",   \"worried_finances\",   \"tested_positive\",\n",
    "\n",
    "    \"cli.1\", \"ili.1\", \"hh_cmnty_cli.1\", \"nohh_cmnty_cli.1\", \"wearing_mask.1\", \"travel_outside_state.1\", \"work_outside_home.1\", \"shop.1\", \"restaurant.1\", \"spent_time.1\",\n",
    "    \"large_event.1\", \"public_transit.1\", \"anxious.1\", \"depressed.1\", \"felt_isolated.1\", \"worried_become_ill.1\", \"worried_finances.1\", \"tested_positive.1\",\n",
    "    \n",
    "    \"cli.2\", \"ili.2\", \"hh_cmnty_cli.2\", \"nohh_cmnty_cli.2\", \"wearing_mask.2\", \"travel_outside_state.2\", \"work_outside_home.2\", \"shop.2\", \"restaurant.2\", \"spent_time.2\",\n",
    "    \"large_event.2\", \"public_transit.2\", \"anxious.2\", \"depressed.2\", \"felt_isolated.2\", \"worried_become_ill.2\", \"worried_finances.2\",\n",
    "]\n",
    "\n",
    "\n",
    "class Covid19Dataset(Dataset):\n",
    "    def __init__(self, data, labels=None):\n",
    "        self.data = data\n",
    "        self.data[:, 40:] = (self.data[:, 40:] - self.data[:, 40:].mean(dim=0, keepdim=True)) / self.data[:, 40:].std(dim=0, keepdim=True)\n",
    "        self.labels = labels\n",
    "        \n",
    "        logger.info(\"data: %s\", self.data.shape)\n",
    "        if self.labels is not None:\n",
    "            logger.info(\"data: %s\", self.labels.shape)\n",
    "    \n",
    "    def __len__(self) -> int:\n",
    "        return len(self.data)\n",
    "    \n",
    "    def __getitem__(self, idx) -> Union[torch.Tensor, Tuple[torch.Tensor, torch.Tensor]]:\n",
    "        if self.labels is not None:\n",
    "            return self.data[idx], self.labels[idx]\n",
    "        return self.data[idx]\n",
    "    \n",
    "    @property\n",
    "    def dimension(self) -> int:\n",
    "        return self.data.shape[1]\n",
    "    \n",
    "    \n",
    "    @classmethod\n",
    "    def create_dataset(cls, filepath: str, is_training: bool) -> 'Union[Covid19Dataset, Tuple[Covid19Dataset, Covid19Dataset]]':\n",
    "        logger.info(\"Reading data from %s\", filepath)\n",
    "        original_data = pandas.read_csv(filepath)\n",
    "\n",
    "        data = torch.FloatTensor(original_data[features].values)\n",
    "        \n",
    "        if not is_training:\n",
    "            return cls(data=data)\n",
    "\n",
    "        labels = torch.FloatTensor(original_data[\"tested_positive.2\"].values)\n",
    "        \n",
    "        total_rows = len(data)\n",
    "#         indexes1 = random.sample(range(total_rows), total_rows // 10)\n",
    "#         indexes0 = [index for index in range(total_rows) if index not in indexes1]\n",
    "        indexes1 = [i for i in range(total_rows) if i % 10 == 0]\n",
    "        indexes0 = [i for i in range(total_rows) if i % 10 != 0]\n",
    "        \n",
    "        return cls(data=data[indexes0], labels=labels[indexes0]), cls(data=data[indexes1], labels=labels[indexes1])\n",
    "        \n",
    "\n",
    "    @classmethod\n",
    "    def create_training_dataset(cls, filepath: str) -> 'Tuple[Covid19Dataset, Covid19Dataset]':\n",
    "        return cls.create_dataset(filepath, is_training=True)\n",
    "    \n",
    "    @classmethod\n",
    "    def create_testing_dataset(cls, filepath: str) -> 'Covid19Dataset':\n",
    "        return cls.create_dataset(filepath, is_training=False)\n",
    "    "
   ]
  },
  {
   "cell_type": "markdown",
   "id": "1b0dd754-91fb-417b-b8fe-8cbf4738c301",
   "metadata": {},
   "source": [
    "# Model"
   ]
  },
  {
   "cell_type": "code",
   "execution_count": 6,
   "id": "931d8484-bf05-46ed-b7a9-8744e86fcdab",
   "metadata": {},
   "outputs": [],
   "source": [
    "class NeuralNetwork(nn.Module):\n",
    "    def __init__(self, input_dimension):\n",
    "        super().__init__()\n",
    "        \n",
    "        self.model = nn.Sequential(\n",
    "            nn.Linear(input_dimension, 64),\n",
    "            nn.ReLU(),\n",
    "            nn.Linear(64, 1),\n",
    "        )\n",
    "        \n",
    "        self.loss_function = nn.MSELoss(reduction=\"mean\")\n",
    "        \n",
    "    def forward(self, X: torch.Tensor) -> torch.Tensor:\n",
    "        return self.model(X).squeeze(1)\n",
    "    \n",
    "    def calculate_loss(self, y1: torch.Tensor, y2: torch.Tensor) -> torch.Tensor:\n",
    "        return self.loss_function(y1, y2)"
   ]
  },
  {
   "cell_type": "markdown",
   "id": "a96be36b-bc61-4807-84ce-dd7f70b0a5e9",
   "metadata": {},
   "source": [
    "# Steps"
   ]
  },
  {
   "cell_type": "code",
   "execution_count": 7,
   "id": "489ba6fe-b150-4cb5-add1-2feead50badb",
   "metadata": {},
   "outputs": [],
   "source": [
    "class LossRecords(NamedTuple):\n",
    "    training_loss: List[float] = []\n",
    "    validation_loss: List[float] = []\n",
    "\n",
    "\n",
    "def train_model(training_dataloader: DataLoader, validation_dataloader: DataLoader, model: NeuralNetwork, config: HW1Config) -> LossRecords:\n",
    "    optimizer = config.optimizer(model.parameters(), **config.optimizer_params)\n",
    "    minimal_validation_loss = 1e10\n",
    "    loss_records = LossRecords()\n",
    "    \n",
    "    for epoch in range(config.epochs):\n",
    "        model.train()\n",
    "        \n",
    "        for X, y in training_dataloader:\n",
    "            X, y = X.to(config.device), y.to(config.device)\n",
    "            \n",
    "            optimizer.zero_grad()\n",
    "            prediction = model(X)\n",
    "            loss = model.calculate_loss(prediction, y)\n",
    "            loss.backward()\n",
    "            optimizer.step()\n",
    "            \n",
    "            loss_records.training_loss.append(loss.detach().cpu().item())\n",
    "            \n",
    "        model.eval()\n",
    "        validation_loss = validate_model(validation_dataloader, model, config=config)\n",
    "        loss_records.validation_loss.append(validation_loss)\n",
    "        \n",
    "        if validation_loss < minimal_validation_loss:\n",
    "            minimal_validation_loss = validation_loss\n",
    "            logger.info(f\"Saving model (epoch: {epoch + 1:4d}, loss: {validation_loss:.4f})\")\n",
    "            torch.save(model.state_dict(), config.model_saving_path)\n",
    "            \n",
    "    return loss_records\n",
    "            \n",
    "            \n",
    "def validate_model(dataloader: DataLoader, model: NeuralNetwork, config: HW1Config):\n",
    "    total_loss = 0\n",
    "    \n",
    "    for X, y in dataloader:\n",
    "        X, y = X.to(config.device), y.to(config.device)\n",
    "        with torch.no_grad():\n",
    "            prediction = model(X)\n",
    "            loss = model.calculate_loss(prediction, y)\n",
    "            total_loss += loss.detach().cpu().item() * len(X)\n",
    "            \n",
    "    return total_loss / len(dataloader.dataset)\n",
    "\n",
    "\n",
    "def test_model(dataloader: DataLoader, model: NeuralNetwork, config: HW1Config) -> torch.Tensor:\n",
    "    predictions = []\n",
    "    \n",
    "    for X in dataloader:\n",
    "        X = X.to(config.device)\n",
    "        with torch.no_grad():\n",
    "            predictions.append(model(X).detach().cpu())\n",
    "    \n",
    "    return torch.cat(predictions, dim=0)\n",
    "\n",
    "\n",
    "def plot_learning_curve(loss_records: LossRecords) -> None:\n",
    "    total_steps = len(loss_records.training_loss)\n",
    "    x1 = range(total_steps)\n",
    "    x2 = x1[::len(loss_records.training_loss) // len(loss_records.validation_loss)]\n",
    "    \n",
    "    figure(figsize=(6, 4))\n",
    "    plt.plot(x1, loss_records.training_loss, c=\"tab:red\", label=\"training\")\n",
    "    plt.plot(x2, loss_records.validation_loss, c=\"tab:cyan\", label=\"validation\")\n",
    "    \n",
    "    plt.ylim(0.0, 5.0)\n",
    "    plt.xlabel(\"Training steps\")\n",
    "    plt.ylabel(\"Loss\")\n",
    "    plt.title(\"Learning curve\")\n",
    "    plt.legend()\n",
    "    plt.show()"
   ]
  },
  {
   "cell_type": "markdown",
   "id": "498691fa-e2f2-43af-a2b3-5342129e70ed",
   "metadata": {},
   "source": [
    "# Start!"
   ]
  },
  {
   "cell_type": "code",
   "execution_count": 8,
   "id": "515316dd-9182-42c8-9d18-315c844b829e",
   "metadata": {},
   "outputs": [],
   "source": [
    "config = HW1Config(\n",
    "    batch_size=270,\n",
    "    device=\"cuda\" if torch.cuda.is_available() else \"cpu\",\n",
    "    epochs=2000,\n",
    "    model_saving_path=\"./data/model.zip\",\n",
    "    optimizer=torch.optim.SGD,\n",
    "    optimizer_params={\"lr\": 0.001, \"momentum\": 0.9}\n",
    ")"
   ]
  },
  {
   "cell_type": "code",
   "execution_count": 9,
   "id": "02aa1f9f-b20a-4046-ae98-86ca772135ba",
   "metadata": {},
   "outputs": [
    {
     "name": "stderr",
     "output_type": "stream",
     "text": [
      "[2021-07-10 21:31:16,555] INFO Reading data from ./data/covid.train.csv\n",
      "[2021-07-10 21:31:16,588] INFO data: torch.Size([2430, 93])\n",
      "[2021-07-10 21:31:16,589] INFO data: torch.Size([2430])\n",
      "[2021-07-10 21:31:16,590] INFO data: torch.Size([270, 93])\n",
      "[2021-07-10 21:31:16,591] INFO data: torch.Size([270])\n",
      "[2021-07-10 21:31:16,592] INFO Reading data from ./data/covid.test.csv\n",
      "[2021-07-10 21:31:16,605] INFO data: torch.Size([893, 93])\n"
     ]
    }
   ],
   "source": [
    "training_dataset, validation_dataset = Covid19Dataset.create_training_dataset(\"./data/covid.train.csv\")\n",
    "testing_dataset = Covid19Dataset.create_testing_dataset(\"./data/covid.test.csv\")\n",
    "\n",
    "training_dataloader = DataLoader(training_dataset, batch_size=config.batch_size, shuffle=True, num_workers=0, pin_memory=True, drop_last=False)\n",
    "validation_dataloader = DataLoader(validation_dataset, batch_size=config.batch_size, shuffle=False, num_workers=0, pin_memory=True, drop_last=False)\n",
    "testing_dataloader = DataLoader(testing_dataset, batch_size=config.batch_size, shuffle=False, num_workers=0, pin_memory=True, drop_last=False)"
   ]
  },
  {
   "cell_type": "code",
   "execution_count": 10,
   "id": "e8555bb8-2479-4a4a-80ef-a7b65a61063a",
   "metadata": {},
   "outputs": [
    {
     "data": {
      "text/plain": [
       "NeuralNetwork(\n",
       "  (model): Sequential(\n",
       "    (0): Linear(in_features=93, out_features=64, bias=True)\n",
       "    (1): ReLU()\n",
       "    (2): Linear(in_features=64, out_features=1, bias=True)\n",
       "  )\n",
       "  (loss_function): MSELoss()\n",
       ")"
      ]
     },
     "execution_count": 10,
     "metadata": {},
     "output_type": "execute_result"
    }
   ],
   "source": [
    "model = NeuralNetwork(training_dataloader.dataset.dimension).to(config.device)\n",
    "model"
   ]
  },
  {
   "cell_type": "code",
   "execution_count": 11,
   "id": "5f91fdc4-d7bf-48c4-8e4b-41d32667b601",
   "metadata": {
    "scrolled": true,
    "tags": []
   },
   "outputs": [
    {
     "name": "stderr",
     "output_type": "stream",
     "text": [
      "[2021-07-10 21:31:18,519] INFO Saving model (epoch:    1, loss: 91.2149)\n",
      "[2021-07-10 21:31:18,542] INFO Saving model (epoch:    2, loss: 54.1794)\n",
      "[2021-07-10 21:31:18,562] INFO Saving model (epoch:    3, loss: 31.5002)\n",
      "[2021-07-10 21:31:18,583] INFO Saving model (epoch:    4, loss: 17.0319)\n",
      "[2021-07-10 21:31:18,604] INFO Saving model (epoch:    5, loss: 11.0249)\n",
      "[2021-07-10 21:31:18,627] INFO Saving model (epoch:    6, loss: 7.5588)\n",
      "[2021-07-10 21:31:18,647] INFO Saving model (epoch:    7, loss: 5.8236)\n",
      "[2021-07-10 21:31:18,668] INFO Saving model (epoch:    8, loss: 4.9759)\n",
      "[2021-07-10 21:31:18,688] INFO Saving model (epoch:    9, loss: 4.3482)\n",
      "[2021-07-10 21:31:18,710] INFO Saving model (epoch:   10, loss: 3.9151)\n",
      "[2021-07-10 21:31:18,730] INFO Saving model (epoch:   11, loss: 3.5578)\n",
      "[2021-07-10 21:31:18,750] INFO Saving model (epoch:   12, loss: 3.2139)\n",
      "[2021-07-10 21:31:18,771] INFO Saving model (epoch:   13, loss: 2.9920)\n",
      "[2021-07-10 21:31:18,793] INFO Saving model (epoch:   14, loss: 2.8184)\n",
      "[2021-07-10 21:31:18,814] INFO Saving model (epoch:   15, loss: 2.6495)\n",
      "[2021-07-10 21:31:18,835] INFO Saving model (epoch:   16, loss: 2.5275)\n",
      "[2021-07-10 21:31:18,855] INFO Saving model (epoch:   17, loss: 2.3243)\n",
      "[2021-07-10 21:31:18,877] INFO Saving model (epoch:   18, loss: 2.2178)\n",
      "[2021-07-10 21:31:18,898] INFO Saving model (epoch:   19, loss: 2.0926)\n",
      "[2021-07-10 21:31:18,919] INFO Saving model (epoch:   20, loss: 2.0007)\n",
      "[2021-07-10 21:31:18,939] INFO Saving model (epoch:   21, loss: 1.9290)\n",
      "[2021-07-10 21:31:18,961] INFO Saving model (epoch:   22, loss: 1.8506)\n",
      "[2021-07-10 21:31:18,982] INFO Saving model (epoch:   23, loss: 1.7911)\n",
      "[2021-07-10 21:31:19,004] INFO Saving model (epoch:   24, loss: 1.7345)\n",
      "[2021-07-10 21:31:19,023] INFO Saving model (epoch:   25, loss: 1.6598)\n",
      "[2021-07-10 21:31:19,044] INFO Saving model (epoch:   26, loss: 1.6212)\n",
      "[2021-07-10 21:31:19,065] INFO Saving model (epoch:   27, loss: 1.5787)\n",
      "[2021-07-10 21:31:19,089] INFO Saving model (epoch:   28, loss: 1.5112)\n",
      "[2021-07-10 21:31:19,109] INFO Saving model (epoch:   29, loss: 1.4995)\n",
      "[2021-07-10 21:31:19,131] INFO Saving model (epoch:   30, loss: 1.4284)\n",
      "[2021-07-10 21:31:19,151] INFO Saving model (epoch:   31, loss: 1.4160)\n",
      "[2021-07-10 21:31:19,172] INFO Saving model (epoch:   32, loss: 1.3771)\n",
      "[2021-07-10 21:31:19,211] INFO Saving model (epoch:   34, loss: 1.3129)\n",
      "[2021-07-10 21:31:19,251] INFO Saving model (epoch:   36, loss: 1.2642)\n",
      "[2021-07-10 21:31:19,294] INFO Saving model (epoch:   38, loss: 1.2572)\n",
      "[2021-07-10 21:31:19,316] INFO Saving model (epoch:   39, loss: 1.2534)\n",
      "[2021-07-10 21:31:19,337] INFO Saving model (epoch:   40, loss: 1.2138)\n",
      "[2021-07-10 21:31:19,362] INFO Saving model (epoch:   41, loss: 1.2056)\n",
      "[2021-07-10 21:31:19,430] INFO Saving model (epoch:   42, loss: 1.1825)\n",
      "[2021-07-10 21:31:19,449] INFO Saving model (epoch:   43, loss: 1.1793)\n",
      "[2021-07-10 21:31:19,469] INFO Saving model (epoch:   44, loss: 1.1731)\n",
      "[2021-07-10 21:31:19,491] INFO Saving model (epoch:   45, loss: 1.1391)\n",
      "[2021-07-10 21:31:19,533] INFO Saving model (epoch:   47, loss: 1.1138)\n",
      "[2021-07-10 21:31:19,570] INFO Saving model (epoch:   49, loss: 1.1097)\n",
      "[2021-07-10 21:31:19,593] INFO Saving model (epoch:   50, loss: 1.0979)\n",
      "[2021-07-10 21:31:19,613] INFO Saving model (epoch:   51, loss: 1.0856)\n",
      "[2021-07-10 21:31:19,652] INFO Saving model (epoch:   53, loss: 1.0814)\n",
      "[2021-07-10 21:31:19,671] INFO Saving model (epoch:   54, loss: 1.0692)\n",
      "[2021-07-10 21:31:19,691] INFO Saving model (epoch:   55, loss: 1.0531)\n",
      "[2021-07-10 21:31:19,748] INFO Saving model (epoch:   58, loss: 1.0479)\n",
      "[2021-07-10 21:31:19,767] INFO Saving model (epoch:   59, loss: 1.0298)\n",
      "[2021-07-10 21:31:19,805] INFO Saving model (epoch:   61, loss: 1.0200)\n",
      "[2021-07-10 21:31:19,842] INFO Saving model (epoch:   63, loss: 1.0013)\n",
      "[2021-07-10 21:31:19,898] INFO Saving model (epoch:   66, loss: 1.0002)\n",
      "[2021-07-10 21:31:19,935] INFO Saving model (epoch:   68, loss: 0.9846)\n",
      "[2021-07-10 21:31:20,024] INFO Saving model (epoch:   73, loss: 0.9708)\n",
      "[2021-07-10 21:31:20,044] INFO Saving model (epoch:   74, loss: 0.9577)\n",
      "[2021-07-10 21:31:20,098] INFO Saving model (epoch:   77, loss: 0.9537)\n",
      "[2021-07-10 21:31:20,152] INFO Saving model (epoch:   80, loss: 0.9452)\n",
      "[2021-07-10 21:31:20,207] INFO Saving model (epoch:   83, loss: 0.9341)\n",
      "[2021-07-10 21:31:20,334] INFO Saving model (epoch:   88, loss: 0.9184)\n",
      "[2021-07-10 21:31:20,440] INFO Saving model (epoch:   94, loss: 0.9042)\n",
      "[2021-07-10 21:31:20,494] INFO Saving model (epoch:   97, loss: 0.9041)\n",
      "[2021-07-10 21:31:20,531] INFO Saving model (epoch:   99, loss: 0.8952)\n",
      "[2021-07-10 21:31:20,570] INFO Saving model (epoch:  101, loss: 0.8899)\n",
      "[2021-07-10 21:31:20,590] INFO Saving model (epoch:  102, loss: 0.8899)\n",
      "[2021-07-10 21:31:20,627] INFO Saving model (epoch:  104, loss: 0.8801)\n",
      "[2021-07-10 21:31:20,822] INFO Saving model (epoch:  115, loss: 0.8767)\n",
      "[2021-07-10 21:31:20,842] INFO Saving model (epoch:  116, loss: 0.8741)\n",
      "[2021-07-10 21:31:20,930] INFO Saving model (epoch:  121, loss: 0.8637)\n",
      "[2021-07-10 21:31:21,000] INFO Saving model (epoch:  125, loss: 0.8577)\n",
      "[2021-07-10 21:31:21,154] INFO Saving model (epoch:  131, loss: 0.8447)\n",
      "[2021-07-10 21:31:21,349] INFO Saving model (epoch:  141, loss: 0.8373)\n",
      "[2021-07-10 21:31:21,524] INFO Saving model (epoch:  150, loss: 0.8329)\n",
      "[2021-07-10 21:31:21,630] INFO Saving model (epoch:  156, loss: 0.8318)\n",
      "[2021-07-10 21:31:21,705] INFO Saving model (epoch:  160, loss: 0.8314)\n",
      "[2021-07-10 21:31:21,761] INFO Saving model (epoch:  163, loss: 0.8278)\n",
      "[2021-07-10 21:31:21,801] INFO Saving model (epoch:  165, loss: 0.8263)\n",
      "[2021-07-10 21:31:21,854] INFO Saving model (epoch:  168, loss: 0.8196)\n",
      "[2021-07-10 21:31:22,028] INFO Saving model (epoch:  176, loss: 0.8130)\n",
      "[2021-07-10 21:31:22,252] INFO Saving model (epoch:  189, loss: 0.8125)\n",
      "[2021-07-10 21:31:22,291] INFO Saving model (epoch:  191, loss: 0.8099)\n",
      "[2021-07-10 21:31:22,589] INFO Saving model (epoch:  208, loss: 0.8061)\n",
      "[2021-07-10 21:31:22,817] INFO Saving model (epoch:  219, loss: 0.8046)\n",
      "[2021-07-10 21:31:22,920] INFO Saving model (epoch:  225, loss: 0.8028)\n",
      "[2021-07-10 21:31:22,995] INFO Saving model (epoch:  229, loss: 0.7929)\n",
      "[2021-07-10 21:31:23,226] INFO Saving model (epoch:  242, loss: 0.7870)\n",
      "[2021-07-10 21:31:23,464] INFO Saving model (epoch:  255, loss: 0.7833)\n",
      "[2021-07-10 21:31:23,956] INFO Saving model (epoch:  281, loss: 0.7771)\n",
      "[2021-07-10 21:31:24,232] INFO Saving model (epoch:  297, loss: 0.7769)\n",
      "[2021-07-10 21:31:24,372] INFO Saving model (epoch:  303, loss: 0.7748)\n",
      "[2021-07-10 21:31:24,728] INFO Saving model (epoch:  323, loss: 0.7726)\n",
      "[2021-07-10 21:31:24,767] INFO Saving model (epoch:  325, loss: 0.7713)\n",
      "[2021-07-10 21:31:24,976] INFO Saving model (epoch:  337, loss: 0.7701)\n",
      "[2021-07-10 21:31:25,395] INFO Saving model (epoch:  358, loss: 0.7636)\n",
      "[2021-07-10 21:31:26,055] INFO Saving model (epoch:  393, loss: 0.7608)\n",
      "[2021-07-10 21:31:26,283] INFO Saving model (epoch:  405, loss: 0.7590)\n",
      "[2021-07-10 21:31:26,534] INFO Saving model (epoch:  419, loss: 0.7526)\n",
      "[2021-07-10 21:31:26,693] INFO Saving model (epoch:  428, loss: 0.7519)\n",
      "[2021-07-10 21:31:27,494] INFO Saving model (epoch:  472, loss: 0.7514)\n",
      "[2021-07-10 21:31:27,902] INFO Saving model (epoch:  494, loss: 0.7472)\n",
      "[2021-07-10 21:31:28,226] INFO Saving model (epoch:  513, loss: 0.7410)\n",
      "[2021-07-10 21:31:32,167] INFO Saving model (epoch:  732, loss: 0.7403)\n",
      "[2021-07-10 21:31:32,855] INFO Saving model (epoch:  770, loss: 0.7365)\n",
      "[2021-07-10 21:31:33,691] INFO Saving model (epoch:  815, loss: 0.7339)\n",
      "[2021-07-10 21:31:34,564] INFO Saving model (epoch:  863, loss: 0.7298)\n",
      "[2021-07-10 21:31:34,657] INFO Saving model (epoch:  866, loss: 0.7290)\n",
      "[2021-07-10 21:31:34,985] INFO Saving model (epoch:  885, loss: 0.7282)\n",
      "[2021-07-10 21:31:36,027] INFO Saving model (epoch:  943, loss: 0.7277)\n",
      "[2021-07-10 21:31:36,477] INFO Saving model (epoch:  965, loss: 0.7265)\n",
      "[2021-07-10 21:31:37,093] INFO Saving model (epoch:  999, loss: 0.7255)\n"
     ]
    }
   ],
   "source": [
    "loss_records = train_model(training_dataloader, validation_dataloader, model, config=config)"
   ]
  },
  {
   "cell_type": "code",
   "execution_count": 12,
   "id": "89c73d67-6d61-4cc1-bd00-47c76e08b321",
   "metadata": {},
   "outputs": [
    {
     "data": {
      "image/png": "[encoded data removed]",
      "text/plain": [
       "<Figure size 432x288 with 1 Axes>"
      ]
     },
     "metadata": {
      "needs_background": "light"
     },
     "output_type": "display_data"
    }
   ],
   "source": [
    "plot_learning_curve(loss_records)"
   ]
  },
  {
   "cell_type": "code",
   "execution_count": 13,
   "id": "ab14afaf-bc30-4504-b341-c788706bf149",
   "metadata": {},
   "outputs": [],
   "source": [
    "del model\n",
    "\n",
    "model_state = torch.load(config.model_saving_path, map_location=\"cpu\")\n",
    "model = NeuralNetwork(training_dataloader.dataset.dimension).to(config.device)\n",
    "model.load_state_dict(model_state)\n",
    "\n",
    "model.eval()\n",
    "predictions = test_model(testing_dataloader, model, config=config)"
   ]
  },
  {
   "cell_type": "code",
   "execution_count": 14,
   "id": "75ccb341-df8b-4905-b7ed-6d7744801fb0",
   "metadata": {},
   "outputs": [],
   "source": [
    "pandas.DataFrame(predictions.numpy()).to_csv(\"./data/answer.csv\", index_label=\"id\", header=[\"tested_positive\"])"
   ]
  },
  {
   "cell_type": "code",
   "execution_count": null,
   "id": "d4fde845-d065-4499-beaa-5940c0ee3a9d",
   "metadata": {},
   "outputs": [],
   "source": []
  }
 ],
 "metadata": {
  "kernelspec": {
   "display_name": "Python 3",
   "language": "python",
   "name": "python3"
  },
  "language_info": {
   "codemirror_mode": {
    "name": "ipython",
    "version": 3
   },
   "file_extension": ".py",
   "mimetype": "text/x-python",
   "name": "python",
   "nbconvert_exporter": "python",
   "pygments_lexer": "ipython3",
   "version": "3.8.10"
  }
 },
 "nbformat": 4,
 "nbformat_minor": 5
}
