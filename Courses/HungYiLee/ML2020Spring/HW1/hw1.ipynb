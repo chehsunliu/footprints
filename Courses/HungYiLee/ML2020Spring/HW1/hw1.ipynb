{
 "cells": [
  {
   "cell_type": "code",
   "execution_count": 97,
   "metadata": {},
   "outputs": [],
   "source": [
    "from datetime import datetime\n",
    "from typing import List\n",
    "\n",
    "\n",
    "def _partial_transpose(output_path: str, lines: List[bytes], is_initial_turn: bool) -> None:\n",
    "    assert len(lines) == 18\n",
    "    output_mode: str =  \"w\" if is_initial_turn else \"a\"\n",
    "    data = [{} for _ in range(24)]\n",
    "\n",
    "    with open(output_path, output_mode) as f:\n",
    "        for line in lines:\n",
    "            raw_date, _, raw_metric, raw_values = line.strip().split(b\",\", 3)\n",
    "            \n",
    "            date: str = raw_date.decode()\n",
    "            metric: str = raw_metric.decode()\n",
    "            values: List[str] = [raw_value.decode() for raw_value in raw_values.split(b\",\")]\n",
    "            assert len(values) == 24\n",
    "            \n",
    "            for hour, _ in enumerate(data):\n",
    "                timestamp: int = int(datetime.strptime(date + f\" {hour}\", \"%Y/%m/%d %H\").timestamp())\n",
    "                data[hour][\"timestamp\"] = str(timestamp)\n",
    "            \n",
    "            for hour, value in enumerate(values):\n",
    "                data[hour][metric] = (\"0\" if value == \"NR\" else value)\n",
    "                \n",
    "        metrics: List[str] = sorted(data[0].keys())\n",
    "        if is_initial_turn:\n",
    "            f.write(\",\".join(metrics) + \"\\n\")\n",
    "            \n",
    "        for item in data:\n",
    "            f.write(\",\".join([item[metric] for metric in metrics]) + \"\\n\")\n",
    "\n",
    "\n",
    "def reorganize_training_data(*, input_path: str, output_path: str) -> None:\n",
    "    with open(input_path, \"rb\") as f:\n",
    "        lines: List[bytes] = []\n",
    "        \n",
    "        for i, line in enumerate(f):\n",
    "            if i == 0:  # Skip the header line\n",
    "                continue\n",
    "            \n",
    "            lines.append(line)\n",
    "            \n",
    "            if i % 18 == 0:\n",
    "                _partial_transpose(output_path, lines, i == 18)\n",
    "                lines = []\n",
    "                break\n",
    "                \n"
   ]
  },
  {
   "cell_type": "code",
   "execution_count": 98,
   "metadata": {},
   "outputs": [],
   "source": [
    "original_training_data_path = \"./train.csv\"\n",
    "reorganized_training_data_path = \"/tmp/train.csv\""
   ]
  },
  {
   "cell_type": "code",
   "execution_count": 101,
   "metadata": {},
   "outputs": [
    {
     "name": "stdout",
     "output_type": "stream",
     "text": [
      "AMB_TEMP,CH4,CO,NMHC,NO,NO2,NOx,O3,PM10,PM2.5,RAINFALL,RH,SO2,THC,WD_HR,WIND_DIREC,WIND_SPEED,WS_HR,timestamp\n",
      "14,1.8,0.51,0.2,0.9,16,17,16,56,26,0,77,1.8,2,37,35,1.4,0.5,1388505600\n",
      "14,1.8,0.41,0.15,0.6,9.2,9.8,30,50,39,0,68,2,2,80,79,1.8,0.9,1388509200\n",
      "14,1.8,0.39,0.13,0.5,8.2,8.7,27,48,36,0,67,1.7,2,57,2.4,1,0.6,1388512800\n",
      "13,1.8,0.37,0.12,1.7,6.9,8.6,23,35,35,0,74,1.6,1.9,76,55,0.6,0.3,1388516400\n",
      "12,1.8,0.35,0.11,1.8,6.8,8.5,24,25,31,0,72,1.9,1.9,110,94,1.7,0.6,1388520000\n",
      "12,1.8,0.3,0.06,1.5,3.8,5.3,28,12,28,0,73,1.4,1.8,106,116,2.5,1.9,1388523600\n",
      "12,1.8,0.37,0.1,1.9,6.9,8.8,24,4,25,0,74,1.5,1.9,101,106,2.5,2,1388527200\n",
      "12,1.8,0.47,0.13,2.2,7.8,9.9,22,2,20,0,73,1.6,1.9,104,94,2,2,1388530800\n",
      "15,1.8,0.78,0.26,6.6,15,22,21,11,19,0,66,5.1,2.1,124,232,0.6,0.5,1388534400\n",
      "17,1.8,0.74,0.23,7.9,21,29,29,38,30,0,56,15,2,46,153,0.8,0.3,1388538000\n",
      "20,1.8,0.59,0.2,4.2,14,18,44,56,41,0,45,4.5,2,241,283,1.6,0.8,1388541600\n",
      "22,1.8,0.52,0.18,2.9,11,14,58,64,44,0,37,2.7,2,280,269,1.9,1.2,1388545200\n",
      "22,1.8,0.41,0.12,3.4,14,17,50,56,33,0,40,3.5,1.9,297,290,2.1,2,1388548800\n",
      "22,1.8,0.4,0.11,3,12,15,57,57,37,0,42,3.6,1.9,305,316,3.3,2.6,1388552400\n",
      "22,1.8,0.37,0.1,2.5,11,14,65,52,36,0,47,3.9,1.9,307,313,2.5,2.1,1388556000\n",
      "22,1.8,0.37,0.13,2.2,11,13,64,51,45,0,49,4.4,1.9,304,305,2.2,2.1,1388559600\n",
      "21,1.8,0.47,0.14,2.5,22,25,51,66,42,0,56,9.9,1.9,307,291,1.4,1.9,1388563200\n",
      "19,1.8,0.69,0.23,2.3,28,30,34,85,49,0,67,5.1,2.1,124,124,2.2,1,1388566800\n",
      "17,1.8,0.56,0.18,2.1,19,21,33,85,45,0,72,3.4,2,118,119,2.8,2.5,1388570400\n",
      "16,1.8,0.45,0.12,1.9,12,13,34,63,44,0,69,2.3,1.9,121,118,3,2.5,1388574000\n",
      "15,1.8,0.38,0.1,1.5,8.1,9.7,37,46,41,0,70,2,1.9,113,114,2.6,2.8,1388577600\n",
      "15,1.8,0.35,0.09,1.6,7,8.6,38,36,30,0,70,1.9,1.9,112,108,2.7,2.6,1388581200\n",
      "15,1.8,0.36,0.1,1.8,6.9,8.7,38,42,24,0,70,1.9,1.9,106,102,2.1,2.4,1388584800\n",
      "15,1.8,0.32,0.08,1.5,6,7.5,36,42,13,0,69,1.9,1.9,110,111,2.1,2.3,1388588400\n"
     ]
    }
   ],
   "source": [
    "reorganize_training_data(\n",
    "    input_path=original_training_data_path,\n",
    "    output_path=reorganized_training_data_path\n",
    ")\n",
    "\n",
    "!cat /tmp/train.csv | head -n 25"
   ]
  },
  {
   "cell_type": "markdown",
   "metadata": {},
   "source": [
    "# Test"
   ]
  },
  {
   "cell_type": "code",
   "execution_count": 3,
   "metadata": {},
   "outputs": [
    {
     "name": "stdout",
     "output_type": "stream",
     "text": [
      "���,����,����,0,1,2,3,4,5,6,7,8,9,10,11,12,13,14,15,16,17,18,19,20,21,22,23\n",
      "2014/1/1,�׭�,AMB_TEMP,14,14,14,13,12,12,12,12,15,17,20,22,22,22,22,22,21,19,17,16,15,15,15,15\n",
      "2014/1/1,�׭�,CH4,1.8,1.8,1.8,1.8,1.8,1.8,1.8,1.8,1.8,1.8,1.8,1.8,1.8,1.8,1.8,1.8,1.8,1.8,1.8,1.8,1.8,1.8,1.8,1.8\n",
      "2014/1/1,�׭�,CO,0.51,0.41,0.39,0.37,0.35,0.3,0.37,0.47,0.78,0.74,0.59,0.52,0.41,0.4,0.37,0.37,0.47,0.69,0.56,0.45,0.38,0.35,0.36,0.32\n",
      "2014/1/1,�׭�,NMHC,0.2,0.15,0.13,0.12,0.11,0.06,0.1,0.13,0.26,0.23,0.2,0.18,0.12,0.11,0.1,0.13,0.14,0.23,0.18,0.12,0.1,0.09,0.1,0.08\n",
      "2014/1/1,�׭�,NO,0.9,0.6,0.5,1.7,1.8,1.5,1.9,2.2,6.6,7.9,4.2,2.9,3.4,3,2.5,2.2,2.5,2.3,2.1,1.9,1.5,1.6,1.8,1.5\n",
      "2014/1/1,�׭�,NO2,16,9.2,8.2,6.9,6.8,3.8,6.9,7.8,15,21,14,11,14,12,11,11,22,28,19,12,8.1,7,6.9,6\n",
      "2014/1/1,�׭�,NOx,17,9.8,8.7,8.6,8.5,5.3,8.8,9.9,22,29,18,14,17,15,14,13,25,30,21,13,9.7,8.6,8.7,7.5\n",
      "2014/1/1,�׭�,O3,16,30,27,23,24,28,24,22,21,29,44,58,50,57,65,64,51,34,33,34,37,38,38,36\n",
      "2014/1/1,�׭�,PM10,56,50,48,35,25,12,4,2,11,38,56,64,56,57,52,51,66,85,85,63,46,36,42,42\n",
      "2014/1/1,�׭�,PM2.5,26,39,36,35,31,28,25,20,19,30,41,44,33,37,36,45,42,49,45,44,41,30,24,13\n",
      "2014/1/1,�׭�,RAINFALL,NR,NR,NR,NR,NR,NR,NR,NR,NR,NR,NR,NR,NR,NR,NR,NR,NR,NR,NR,NR,NR,NR,NR,NR\n",
      "2014/1/1,�׭�,RH,77,68,67,74,72,73,74,73,66,56,45,37,40,42,47,49,56,67,72,69,70,70,70,69\n",
      "2014/1/1,�׭�,SO2,1.8,2,1.7,1.6,1.9,1.4,1.5,1.6,5.1,15,4.5,2.7,3.5,3.6,3.9,4.4,9.9,5.1,3.4,2.3,2,1.9,1.9,1.9\n",
      "2014/1/1,�׭�,THC,2,2,2,1.9,1.9,1.8,1.9,1.9,2.1,2,2,2,1.9,1.9,1.9,1.9,1.9,2.1,2,1.9,1.9,1.9,1.9,1.9\n",
      "2014/1/1,�׭�,WD_HR,37,80,57,76,110,106,101,104,124,46,241,280,297,305,307,304,307,124,118,121,113,112,106,110\n",
      "2014/1/1,�׭�,WIND_DIREC,35,79,2.4,55,94,116,106,94,232,153,283,269,290,316,313,305,291,124,119,118,114,108,102,111\n",
      "2014/1/1,�׭�,WIND_SPEED,1.4,1.8,1,0.6,1.7,2.5,2.5,2,0.6,0.8,1.6,1.9,2.1,3.3,2.5,2.2,1.4,2.2,2.8,3,2.6,2.7,2.1,2.1\n",
      "2014/1/1,�׭�,WS_HR,0.5,0.9,0.6,0.3,0.6,1.9,2,2,0.5,0.3,0.8,1.2,2,2.6,2.1,2.1,1.9,1,2.5,2.5,2.8,2.6,2.4,2.3\n",
      "2014/1/2,�׭�,AMB_TEMP,16,15,15,14,14,15,16,16,17,20,22,23,24,24,24,24,23,21,20,19,18,18,18,18\n",
      "cat: stdout: Broken pipe\n"
     ]
    }
   ],
   "source": [
    "!cat ./train.csv | head -n 20"
   ]
  },
  {
   "cell_type": "code",
   "execution_count": 13,
   "metadata": {},
   "outputs": [
    {
     "name": "stdout",
     "output_type": "stream",
     "text": [
      "0\n",
      "2\n",
      "4\n",
      "6\n",
      "8\n"
     ]
    }
   ],
   "source": [
    "for a in range(1, 10, 2):\n",
    "    print(a)"
   ]
  },
  {
   "cell_type": "code",
   "execution_count": 92,
   "metadata": {},
   "outputs": [
    {
     "data": {
      "text/plain": [
       "['a', 'b']"
      ]
     },
     "execution_count": 92,
     "metadata": {},
     "output_type": "execute_result"
    }
   ],
   "source": [
    "a = {\"a\": 123, \"b\": 234}\n",
    "sorted(a.keys())"
   ]
  },
  {
   "cell_type": "code",
   "execution_count": 54,
   "metadata": {},
   "outputs": [
    {
     "data": {
      "text/plain": [
       "datetime.datetime(2020, 2, 1, 1, 0)"
      ]
     },
     "execution_count": 54,
     "metadata": {},
     "output_type": "execute_result"
    }
   ],
   "source": [
    "d"
   ]
  },
  {
   "cell_type": "code",
   "execution_count": null,
   "metadata": {},
   "outputs": [],
   "source": []
  }
 ],
 "metadata": {
  "kernelspec": {
   "display_name": "Python 3",
   "language": "python",
   "name": "python3"
  },
  "language_info": {
   "codemirror_mode": {
    "name": "ipython",
    "version": 3
   },
   "file_extension": ".py",
   "mimetype": "text/x-python",
   "name": "python",
   "nbconvert_exporter": "python",
   "pygments_lexer": "ipython3",
   "version": "3.6.8"
  }
 },
 "nbformat": 4,
 "nbformat_minor": 4
}
