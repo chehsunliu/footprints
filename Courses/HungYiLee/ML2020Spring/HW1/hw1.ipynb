{
 "cells": [
  {
   "cell_type": "markdown",
   "metadata": {},
   "source": [
    "# Machine Learning 2020 - Homework 1"
   ]
  },
  {
   "cell_type": "markdown",
   "metadata": {},
   "source": [
    "## Data Transformation"
   ]
  },
  {
   "cell_type": "code",
   "execution_count": 86,
   "metadata": {},
   "outputs": [],
   "source": [
    "import json\n",
    "from typing import List, TextIO\n",
    "from datetime import datetime\n",
    "\n",
    "\n",
    "def output(f: TextIO, lines: List[bytes]):\n",
    "    data = [{} for hour in range(24)]\n",
    "    \n",
    "    for line in lines:\n",
    "        columns: List[bytes] = line.strip().split(b\",\")\n",
    "            \n",
    "        column_date: str = columns[0].decode()\n",
    "        column_metric: str = columns[2].decode()\n",
    "        column_values: List[str] = [v.decode() for v in columns[3:]]\n",
    "        assert len(column_values) == 24\n",
    "        \n",
    "        for hour, item in enumerate(data):\n",
    "            item[\"timestamp\"] = int(datetime.strptime(f\"{column_date} {hour}\", \"%Y/%m/%d %H\").timestamp())\n",
    "            \n",
    "        for hour, column_value in enumerate(column_values):\n",
    "            try:\n",
    "                value = float(column_value)\n",
    "            except ValueError:\n",
    "                assert column_value == \"NR\"\n",
    "                value = None\n",
    "            data[hour][column_metric] = value\n",
    "            \n",
    "    for item in sorted(data, key=lambda x: x[\"timestamp\"]):\n",
    "        f.write(json.dumps(item, separators=(\",\", \":\")) + \"\\n\")\n",
    "\n",
    "\n",
    "def transform(train_data_path: str, transformed_data_path: str):\n",
    "    with open(train_data_path, \"rb\") as input_file, open(transformed_data_path, \"w\") as output_file:\n",
    "        lines = []\n",
    "        for i, line in enumerate(input_file):\n",
    "            # Skip header.\n",
    "            if i == 0:\n",
    "                continue\n",
    "            \n",
    "            if i % 18 != 0:\n",
    "                lines.append(line)\n",
    "            else:\n",
    "                output(output_file, lines)\n",
    "                lines = []"
   ]
  },
  {
   "cell_type": "code",
   "execution_count": 89,
   "metadata": {},
   "outputs": [],
   "source": [
    "transform(\"train.csv\", \"/tmp/train_transformed.csv\")"
   ]
  },
  {
   "cell_type": "code",
   "execution_count": 91,
   "metadata": {},
   "outputs": [
    {
     "name": "stdout",
     "output_type": "stream",
     "text": [
      "{\"timestamp\":1388505600,\"AMB_TEMP\":14.0,\"CH4\":1.8,\"CO\":0.51,\"NMHC\":0.2,\"NO\":0.9,\"NO2\":16.0,\"NOx\":17.0,\"O3\":16.0,\"PM10\":56.0,\"PM2.5\":26.0,\"RAINFALL\":null,\"RH\":77.0,\"SO2\":1.8,\"THC\":2.0,\"WD_HR\":37.0,\"WIND_DIREC\":35.0,\"WIND_SPEED\":1.4}\n",
      "{\"timestamp\":1388509200,\"AMB_TEMP\":14.0,\"CH4\":1.8,\"CO\":0.41,\"NMHC\":0.15,\"NO\":0.6,\"NO2\":9.2,\"NOx\":9.8,\"O3\":30.0,\"PM10\":50.0,\"PM2.5\":39.0,\"RAINFALL\":null,\"RH\":68.0,\"SO2\":2.0,\"THC\":2.0,\"WD_HR\":80.0,\"WIND_DIREC\":79.0,\"WIND_SPEED\":1.8}\n",
      "{\"timestamp\":1388512800,\"AMB_TEMP\":14.0,\"CH4\":1.8,\"CO\":0.39,\"NMHC\":0.13,\"NO\":0.5,\"NO2\":8.2,\"NOx\":8.7,\"O3\":27.0,\"PM10\":48.0,\"PM2.5\":36.0,\"RAINFALL\":null,\"RH\":67.0,\"SO2\":1.7,\"THC\":2.0,\"WD_HR\":57.0,\"WIND_DIREC\":2.4,\"WIND_SPEED\":1.0}\n",
      "cat: stdout: Broken pipe\n"
     ]
    }
   ],
   "source": [
    "!cat /tmp/train_transformed.csv | head -n 3"
   ]
  },
  {
   "cell_type": "code",
   "execution_count": null,
   "metadata": {},
   "outputs": [],
   "source": []
  }
 ],
 "metadata": {
  "kernelspec": {
   "display_name": "Python 3",
   "language": "python",
   "name": "python3"
  },
  "language_info": {
   "codemirror_mode": {
    "name": "ipython",
    "version": 3
   },
   "file_extension": ".py",
   "mimetype": "text/x-python",
   "name": "python",
   "nbconvert_exporter": "python",
   "pygments_lexer": "ipython3",
   "version": "3.6.8"
  }
 },
 "nbformat": 4,
 "nbformat_minor": 4
}
